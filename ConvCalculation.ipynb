{
 "cells": [
  {
   "cell_type": "code",
   "execution_count": 1,
   "metadata": {},
   "outputs": [],
   "source": [
    "class ConvSize():\n",
    "    def __init__(self, filter_size, depth, stride, pad):\n",
    "        self.filter_size = filter_size\n",
    "        self.depth = depth\n",
    "        self.stride = stride\n",
    "        self.pad = pad"
   ]
  },
  {
   "cell_type": "code",
   "execution_count": 2,
   "metadata": {},
   "outputs": [],
   "source": [
    "convlist = []\n",
    "convlist.append(ConvSize(5, 48, 1, 2))"
   ]
  },
  {
   "cell_type": "code",
   "execution_count": 3,
   "metadata": {},
   "outputs": [],
   "source": [
    "bottlenecklist = []\n",
    "bottlenecklist.append(ConvSize(1, 16, 1, 0))\n",
    "bottlenecklist.append(ConvSize(5, 48, 1, 2))"
   ]
  },
  {
   "cell_type": "code",
   "execution_count": 4,
   "metadata": {},
   "outputs": [],
   "source": [
    "def ConvCalculation(size, in_channel, convlist):\n",
    "    cal = 0\n",
    "    cur_size = size\n",
    "    cur_depth = in_channel \n",
    "    if(len(convlist)>=1):\n",
    "        for conv in convlist:\n",
    "            cal += (size*size*conv.depth)*(conv.filter_size**2*cur_depth)\n",
    "            cur_size = ((size-conv.filter_size+2*conv.pad)/conv.stride)+1\n",
    "            cur_depth = conv.depth\n",
    "    return cal, cur_size, cur_depth"
   ]
  },
  {
   "cell_type": "code",
   "execution_count": 7,
   "metadata": {},
   "outputs": [
    {
     "data": {
      "text/plain": [
       "(112896000, 14.0, 48)"
      ]
     },
     "execution_count": 7,
     "metadata": {},
     "output_type": "execute_result"
    }
   ],
   "source": [
    "ConvCalculation(size = 14, in_channel = 480, convlist = convlist)"
   ]
  },
  {
   "cell_type": "code",
   "execution_count": 6,
   "metadata": {},
   "outputs": [
    {
     "data": {
      "text/plain": [
       "(5268480, 14.0, 48)"
      ]
     },
     "execution_count": 6,
     "metadata": {},
     "output_type": "execute_result"
    }
   ],
   "source": [
    "ConvCalculation(size = 14, in_channel = 480, convlist = bottlenecklist)"
   ]
  }
 ],
 "metadata": {
  "kernelspec": {
   "display_name": "Python 3",
   "language": "python",
   "name": "python3"
  },
  "language_info": {
   "codemirror_mode": {
    "name": "ipython",
    "version": 3
   },
   "file_extension": ".py",
   "mimetype": "text/x-python",
   "name": "python",
   "nbconvert_exporter": "python",
   "pygments_lexer": "ipython3",
   "version": "3.7.3"
  }
 },
 "nbformat": 4,
 "nbformat_minor": 4
}
